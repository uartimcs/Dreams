{
  "nbformat": 4,
  "nbformat_minor": 0,
  "metadata": {
    "colab": {
      "provenance": []
    },
    "kernelspec": {
      "name": "python3",
      "display_name": "Python 3"
    },
    "language_info": {
      "name": "python"
    }
  },
  "cells": [
    {
      "cell_type": "markdown",
      "source": [
        "1. Login Google Drive and change the directory to the Colab Notebooks."
      ],
      "metadata": {
        "id": "85tZ_lVWcZSd"
      }
    },
    {
      "cell_type": "code",
      "execution_count": 1,
      "metadata": {
        "colab": {
          "base_uri": "https://localhost:8080/"
        },
        "id": "lGM9S3Fjbdra",
        "outputId": "55cc74c1-6375-4ea3-8bd0-3c04e88532a9"
      },
      "outputs": [
        {
          "output_type": "stream",
          "name": "stdout",
          "text": [
            "Mounted at /content/drive\n"
          ]
        }
      ],
      "source": [
        "# Mount the Google Drive, Login required\n",
        "from google.colab import drive\n",
        "drive.mount('/content/drive')"
      ]
    },
    {
      "cell_type": "code",
      "source": [
        "# Show current directory, Change the current directory to Colab Notebook\n",
        "!pwd\n",
        "%cd \"/content/drive/MyDrive/Colab Notebooks\"\n",
        "!ls -ls"
      ],
      "metadata": {
        "colab": {
          "base_uri": "https://localhost:8080/"
        },
        "id": "T4dUBktXbsyr",
        "outputId": "ee7c875c-b635-4dda-9b1c-c6e3012a272f"
      },
      "execution_count": 2,
      "outputs": [
        {
          "output_type": "stream",
          "name": "stdout",
          "text": [
            "/content\n",
            "/content/drive/MyDrive/Colab Notebooks\n",
            "total 34\n",
            "9 -rw------- 1 root root 8853 Dec  5 15:32 ConvertToJPG.ipynb\n",
            "4 drwx------ 2 root root 4096 Nov 28 07:29 COSCO\n",
            "4 drwx------ 2 root root 4096 Dec  4 18:26 demo\n",
            "5 -rw------- 1 root root 4733 Dec  5 16:01 ImageTransform.ipynb\n",
            "4 drwx------ 2 root root 4096 Dec  5 15:31 jpg\n",
            "4 drwx------ 2 root root 4096 Dec  5 15:17 pdf\n",
            "4 drwx------ 2 root root 4096 Dec  5 15:56 transform\n"
          ]
        }
      ]
    },
    {
      "cell_type": "markdown",
      "source": [
        "2. Install and update ncessary patches and modules."
      ],
      "metadata": {
        "id": "fbeNDo7kclJ8"
      }
    },
    {
      "cell_type": "code",
      "source": [
        "# Get the latest update of Ubuntu Runtime\n",
        "!sudo apt-get update"
      ],
      "metadata": {
        "colab": {
          "base_uri": "https://localhost:8080/"
        },
        "id": "o-SxEMiXcPZn",
        "outputId": "22e30f88-2c12-4b83-b2e8-d500fdfb8e70"
      },
      "execution_count": 3,
      "outputs": [
        {
          "output_type": "stream",
          "name": "stdout",
          "text": [
            "\r0% [Working]\r            \rGet:1 https://cloud.r-project.org/bin/linux/ubuntu jammy-cran40/ InRelease [3,626 B]\n",
            "\r0% [Waiting for headers] [Connecting to security.ubuntu.com (185.125.190.39)] [\r0% [Waiting for headers] [Connecting to security.ubuntu.com (185.125.190.39)] [\r                                                                               \rHit:2 https://developer.download.nvidia.com/compute/cuda/repos/ubuntu2204/x86_64  InRelease\n",
            "\r0% [Waiting for headers] [Connecting to security.ubuntu.com (185.125.190.39)] [\r                                                                               \rHit:3 http://archive.ubuntu.com/ubuntu jammy InRelease\n",
            "\r0% [Waiting for headers] [Waiting for headers] [Connected to ppa.launchpadconte\r                                                                               \rGet:4 http://archive.ubuntu.com/ubuntu jammy-updates InRelease [119 kB]\n",
            "Get:5 http://security.ubuntu.com/ubuntu jammy-security InRelease [110 kB]\n",
            "Hit:6 http://archive.ubuntu.com/ubuntu jammy-backports InRelease\n",
            "Get:7 http://archive.ubuntu.com/ubuntu jammy-updates/universe amd64 Packages [1,302 kB]\n",
            "Get:8 https://ppa.launchpadcontent.net/c2d4u.team/c2d4u4.0+/ubuntu jammy InRelease [18.1 kB]\n",
            "Hit:9 https://ppa.launchpadcontent.net/deadsnakes/ppa/ubuntu jammy InRelease\n",
            "Get:10 http://security.ubuntu.com/ubuntu jammy-security/main amd64 Packages [1,265 kB]\n",
            "Get:11 http://archive.ubuntu.com/ubuntu jammy-updates/restricted amd64 Packages [1,538 kB]\n",
            "Hit:12 https://ppa.launchpadcontent.net/graphics-drivers/ppa/ubuntu jammy InRelease\n",
            "Get:13 http://archive.ubuntu.com/ubuntu jammy-updates/main amd64 Packages [1,550 kB]\n",
            "Hit:14 https://ppa.launchpadcontent.net/ubuntugis/ppa/ubuntu jammy InRelease\n",
            "Get:15 https://ppa.launchpadcontent.net/c2d4u.team/c2d4u4.0+/ubuntu jammy/main Sources [2,246 kB]\n",
            "Get:16 http://security.ubuntu.com/ubuntu jammy-security/universe amd64 Packages [1,031 kB]\n",
            "Get:17 https://ppa.launchpadcontent.net/c2d4u.team/c2d4u4.0+/ubuntu jammy/main amd64 Packages [1,153 kB]\n",
            "Fetched 10.3 MB in 7s (1,398 kB/s)\n",
            "Reading package lists... Done\n"
          ]
        }
      ]
    },
    {
      "cell_type": "code",
      "source": [
        "# Install the necessary tool poppler-utils in PATH directory\n",
        "!sudo apt-get install poppler-utils"
      ],
      "metadata": {
        "colab": {
          "base_uri": "https://localhost:8080/"
        },
        "id": "DpO1ZrHscQag",
        "outputId": "048bd9b4-9c14-43af-c281-ddb2c6f66688"
      },
      "execution_count": 4,
      "outputs": [
        {
          "output_type": "stream",
          "name": "stdout",
          "text": [
            "Reading package lists... Done\n",
            "Building dependency tree... Done\n",
            "Reading state information... Done\n",
            "The following NEW packages will be installed:\n",
            "  poppler-utils\n",
            "0 upgraded, 1 newly installed, 0 to remove and 18 not upgraded.\n",
            "Need to get 186 kB of archives.\n",
            "After this operation, 696 kB of additional disk space will be used.\n",
            "Get:1 http://archive.ubuntu.com/ubuntu jammy-updates/main amd64 poppler-utils amd64 22.02.0-2ubuntu0.3 [186 kB]\n",
            "Fetched 186 kB in 0s (424 kB/s)\n",
            "debconf: unable to initialize frontend: Dialog\n",
            "debconf: (No usable dialog-like program is installed, so the dialog based frontend cannot be used. at /usr/share/perl5/Debconf/FrontEnd/Dialog.pm line 78, <> line 1.)\n",
            "debconf: falling back to frontend: Readline\n",
            "debconf: unable to initialize frontend: Readline\n",
            "debconf: (This frontend requires a controlling tty.)\n",
            "debconf: falling back to frontend: Teletype\n",
            "dpkg-preconfigure: unable to re-open stdin: \n",
            "Selecting previously unselected package poppler-utils.\n",
            "(Reading database ... 120882 files and directories currently installed.)\n",
            "Preparing to unpack .../poppler-utils_22.02.0-2ubuntu0.3_amd64.deb ...\n",
            "Unpacking poppler-utils (22.02.0-2ubuntu0.3) ...\n",
            "Setting up poppler-utils (22.02.0-2ubuntu0.3) ...\n",
            "Processing triggers for man-db (2.10.2-1) ...\n"
          ]
        }
      ]
    },
    {
      "cell_type": "code",
      "source": [
        "# Install pdf2image module\n",
        "!pip install pdf2image"
      ],
      "metadata": {
        "colab": {
          "base_uri": "https://localhost:8080/"
        },
        "id": "VNyJHcarcUnN",
        "outputId": "29260bb8-5111-4978-ecfc-1a0386370eb6"
      },
      "execution_count": 5,
      "outputs": [
        {
          "output_type": "stream",
          "name": "stdout",
          "text": [
            "Collecting pdf2image\n",
            "  Downloading pdf2image-1.16.3-py3-none-any.whl (11 kB)\n",
            "Requirement already satisfied: pillow in /usr/local/lib/python3.10/dist-packages (from pdf2image) (9.4.0)\n",
            "Installing collected packages: pdf2image\n",
            "Successfully installed pdf2image-1.16.3\n"
          ]
        }
      ]
    },
    {
      "cell_type": "markdown",
      "source": [
        "3. Convert pdf to jpeg files."
      ],
      "metadata": {
        "id": "jHuOkBAmc854"
      }
    },
    {
      "cell_type": "code",
      "source": [
        "import os\n",
        "from pdf2image import convert_from_path\n",
        "\n",
        "# Default Location\n",
        "PDF_LOCATION = \"./pdf\"\n",
        "JPG_LOCATION = \"./jpg\"\n",
        "\n",
        "# Document Name\n",
        "DOC_PREFIX = \"dummy\"\n",
        "\n",
        "source_dir_exist = os.path.exists(PDF_LOCATION)\n",
        "dest_dir_exist = os.path.exists(JPG_LOCATION)\n",
        "if not source_dir_exist:\n",
        "  print('The pdf storage directory does not exist! Create a new one for you.')\n",
        "  os.makedirs(PDF_LOCATION)\n",
        "\n",
        "if not dest_dir_exist:\n",
        "  print('The jpeg storage directory does not exist! Create a new one for you.')\n",
        "  os.makedirs(JPG_LOCATION)\n",
        "\n",
        "file_list = os.listdir(PDF_LOCATION)\n",
        "#print(len(file_list), file_list)\n",
        "\n",
        "for i in range(0, len(file_list)):\n",
        "  if file_list[i].endswith(\".pdf\"):\n",
        "    pages = convert_from_path(os.path.join(PDF_LOCATION,file_list[i]))\n",
        "    #print(pages, type(pages))\n",
        "    #Only the cover page will be extracted for training.\n",
        "    for j in range(0, 1):\n",
        "      image_name = DOC_PREFIX + str(i+1) + '_Page' + str(j)+ '.jpg'\n",
        "      print(image_name, \"will be created!\")\n",
        "      destination = JPG_LOCATION + \"/\" + image_name\n",
        "      pages[j].save(destination)\n",
        "      print(image_name, \"was saved as \", destination)\n"
      ],
      "metadata": {
        "colab": {
          "base_uri": "https://localhost:8080/"
        },
        "id": "QBD2hTc2c_C3",
        "outputId": "ec9073f0-6862-4d9f-e498-dc94de33e25a"
      },
      "execution_count": 6,
      "outputs": [
        {
          "output_type": "stream",
          "name": "stdout",
          "text": [
            "dummy1_Page0.jpg will be created!\n",
            "dummy1_Page0.jpg was saved as  ./jpg/dummy1_Page0.jpg\n",
            "dummy2_Page0.jpg will be created!\n",
            "dummy2_Page0.jpg was saved as  ./jpg/dummy2_Page0.jpg\n"
          ]
        }
      ]
    }
  ]
}