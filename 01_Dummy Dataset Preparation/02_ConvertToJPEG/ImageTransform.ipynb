{
  "nbformat": 4,
  "nbformat_minor": 0,
  "metadata": {
    "colab": {
      "provenance": []
    },
    "kernelspec": {
      "name": "python3",
      "display_name": "Python 3"
    },
    "language_info": {
      "name": "python"
    }
  },
  "cells": [
    {
      "cell_type": "markdown",
      "source": [
        "1. Login Google Drive and change the directory to the Colab Notebooks."
      ],
      "metadata": {
        "id": "85tZ_lVWcZSd"
      }
    },
    {
      "cell_type": "code",
      "execution_count": 1,
      "metadata": {
        "colab": {
          "base_uri": "https://localhost:8080/"
        },
        "id": "lGM9S3Fjbdra",
        "outputId": "cce36429-bb83-44fb-ce58-ccc6c368fa98"
      },
      "outputs": [
        {
          "output_type": "stream",
          "name": "stdout",
          "text": [
            "Drive already mounted at /content/drive; to attempt to forcibly remount, call drive.mount(\"/content/drive\", force_remount=True).\n"
          ]
        }
      ],
      "source": [
        "# Mount the Google Drive, Login required\n",
        "from google.colab import drive\n",
        "drive.mount('/content/drive')"
      ]
    },
    {
      "cell_type": "code",
      "source": [
        "# Show current directory, Change the current directory to Colab Notebook\n",
        "!pwd\n",
        "%cd \"/content/drive/MyDrive/Colab Notebooks\"\n",
        "!ls -ls"
      ],
      "metadata": {
        "colab": {
          "base_uri": "https://localhost:8080/"
        },
        "id": "T4dUBktXbsyr",
        "outputId": "b5f0f3a6-0c21-4aea-9dfa-8e26b9b07ea5"
      },
      "execution_count": 2,
      "outputs": [
        {
          "output_type": "stream",
          "name": "stdout",
          "text": [
            "/content\n",
            "/content/drive/MyDrive/Colab Notebooks\n",
            "total 34\n",
            "9 -rw------- 1 root root 9187 Dec  5 16:03 ConvertToJPG.ipynb\n",
            "4 drwx------ 2 root root 4096 Nov 28 07:29 COSCO\n",
            "4 drwx------ 2 root root 4096 Dec  4 18:26 demo\n",
            "5 -rw------- 1 root root 4193 Dec  5 16:03 ImageTransform.ipynb\n",
            "4 drwx------ 2 root root 4096 Dec  5 15:31 jpg\n",
            "4 drwx------ 2 root root 4096 Dec  5 15:17 pdf\n",
            "4 drwx------ 2 root root 4096 Dec  5 16:03 transform\n"
          ]
        }
      ]
    },
    {
      "cell_type": "code",
      "source": [
        "import cv2\n",
        "import os\n",
        "\n",
        "START_LOCATION = \"./jpg\"\n",
        "END_LOCATION = \"./transform\"\n",
        "\n",
        "start_dir_exist = os.path.exists(START_LOCATION)\n",
        "end_dir_exist = os.path.exists(END_LOCATION)\n",
        "if not start_dir_exist:\n",
        "  print('The jpeg storage directory does not exist! Create a new one for you.')\n",
        "  os.makedirs(START_LOCATION)\n",
        "\n",
        "if not end_dir_exist:\n",
        "  print('The transformed image storage directory does not exist! Create a new one for you.')\n",
        "  os.makedirs(END_LOCATION)\n",
        "\n",
        "file_content = os.listdir(START_LOCATION)\n",
        "for i in range(0, len(file_content)):\n",
        "  if file_content[i].endswith(\".jpg\"):\n",
        "    image_location = os.path.join(START_LOCATION, file_content[i])\n",
        "    image = cv2.imread(image_location)\n",
        "\n",
        "    horizontal_flip = cv2.flip(image, 1)\n",
        "    vertical_flip = cv2.flip(image, 0)\n",
        "    rotated_image = cv2.rotate(image, cv2.ROTATE_90_CLOCKWISE)\n",
        "    gaussian_blur_image = cv2.GaussianBlur(image, (5,5), 0)\n",
        "    gray_image = cv2.cvtColor(image, cv2.COLOR_BGR2GRAY)\n",
        "\n",
        "    transform1 = \"Hflipped_\" + file_content[i]\n",
        "    # transform2 = \"Vflipped\" + file_content[i]\n",
        "    transform3 = \"rotated\" + file_content[i]\n",
        "    transform4 = \"blurred_\" + file_content[i]\n",
        "    transform5 = \"grayed_\" + file_content[i]\n",
        "\n",
        "    transform1_path = os.path.join(END_LOCATION, transform1)\n",
        "    # transform2_path = os.path.join(END_LOCATION, transform2)\n",
        "    transform3_path = os.path.join(END_LOCATION, transform3)\n",
        "    transform4_path = os.path.join(END_LOCATION, transform4)\n",
        "    transform5_path = os.path.join(END_LOCATION, transform5)\n",
        "\n",
        "    cv2.imwrite(transform1_path, horizontal_flip)\n",
        "    # cv2.imwrite(transform2_path, vertical_flip)\n",
        "    cv2.imwrite(transform3_path, rotated_image)\n",
        "    cv2.imwrite(transform4_path, gaussian_blur_image)\n",
        "    cv2.imwrite(transform5_path, gray_image)\n",
        "\n"
      ],
      "metadata": {
        "id": "qYF5qg3FoJYr"
      },
      "execution_count": 3,
      "outputs": []
    }
  ]
}